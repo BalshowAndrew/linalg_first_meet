{
 "cells": [
  {
   "cell_type": "markdown",
   "id": "803a49bb-6bfc-4852-8e2c-a4fe6f7cea8b",
   "metadata": {},
   "source": [
    "## Глава 2 Векторы Часть 1"
   ]
  },
  {
   "cell_type": "code",
   "execution_count": 1,
   "id": "13136c70-1a23-45c1-bde2-3b9d5b1f7b86",
   "metadata": {},
   "outputs": [],
   "source": [
    "import numpy as np"
   ]
  },
  {
   "cell_type": "markdown",
   "id": "b9257b74-819a-43f2-b9fd-cf1653964dab",
   "metadata": {},
   "source": [
    "- По традиции в линейной алгебре исходят из допущения, что векторы ориентированы вдоль столбца.\n",
    "- Векторы-строки - это транспонированные векторы."
   ]
  },
  {
   "cell_type": "markdown",
   "id": "d3f7d9cd-3810-4508-a740-581c2d2d706b",
   "metadata": {
    "jp-MarkdownHeadingCollapsed": true
   },
   "source": [
    "### 1.1 Способы создания вектора"
   ]
  },
  {
   "cell_type": "code",
   "execution_count": 5,
   "id": "2100d9f8-6bcb-487f-8430-37e445f1b91c",
   "metadata": {},
   "outputs": [
    {
     "name": "stdout",
     "output_type": "stream",
     "text": [
      "[1 2 3]\n",
      "asArray: (3,)\n"
     ]
    }
   ],
   "source": [
    "# Как массив:\n",
    "asArray = np.array([1, 2, 3])\n",
    "print(asArray)\n",
    "print(f\"asArray: {asArray.shape}\")"
   ]
  },
  {
   "cell_type": "code",
   "execution_count": 6,
   "id": "a7b8f4fc-806a-475f-a867-277c50b63cdf",
   "metadata": {},
   "outputs": [
    {
     "name": "stdout",
     "output_type": "stream",
     "text": [
      "[[1 2 3]]\n",
      "rowVec: (1, 3)\n"
     ]
    }
   ],
   "source": [
    "# Как вектор-строка:\n",
    "rowVec = np.array([[1, 2, 3]])\n",
    "print(rowVec)\n",
    "print(f\"rowVec: {rowVec.shape}\")"
   ]
  },
  {
   "cell_type": "code",
   "execution_count": 9,
   "id": "301026c9-84a8-4d12-b3df-833e82eff7d3",
   "metadata": {},
   "outputs": [
    {
     "name": "stdout",
     "output_type": "stream",
     "text": [
      "[[1]\n",
      " [2]\n",
      " [3]]\n",
      "colVec: (3, 1)\n"
     ]
    }
   ],
   "source": [
    "# Как вектор-столбец:\n",
    "colVec = np.array([[1], [2], [3]])\n",
    "print(colVec)\n",
    "print(f\"colVec: {colVec.shape}\")"
   ]
  },
  {
   "cell_type": "markdown",
   "id": "b82b50f6-b21a-4123-92a3-f9a4222f043e",
   "metadata": {},
   "source": [
    "**Вывод:** наделенные ориентацией векторы являются двумерными массивами"
   ]
  },
  {
   "cell_type": "markdown",
   "id": "223a41b4-3a4f-4d73-8877-0f265f32adb0",
   "metadata": {},
   "source": [
    "### 1.2 Сложение двух векторов"
   ]
  },
  {
   "cell_type": "code",
   "execution_count": 10,
   "id": "71505edb-596b-4ffd-a7be-489acdbdc0b5",
   "metadata": {},
   "outputs": [],
   "source": [
    "v = np.array([4, 5, 6])\n",
    "w = np.array([10, 20, 30])\n",
    "u = np.array([0, 3, 6, 9])"
   ]
  },
  {
   "cell_type": "code",
   "execution_count": 12,
   "id": "01066490-1c05-43a4-a6d8-338cc04a0724",
   "metadata": {},
   "outputs": [
    {
     "data": {
      "text/plain": [
       "array([14, 25, 36])"
      ]
     },
     "execution_count": 12,
     "metadata": {},
     "output_type": "execute_result"
    }
   ],
   "source": [
    "VplusW = v + w\n",
    "VplusW"
   ]
  },
  {
   "cell_type": "code",
   "execution_count": 17,
   "id": "6a543c4e-a020-48a4-a8ef-e761ea5d97a7",
   "metadata": {},
   "outputs": [
    {
     "name": "stdout",
     "output_type": "stream",
     "text": [
      "ValueError: Измерения векторов не совпадают\n"
     ]
    }
   ],
   "source": [
    "try:\n",
    "    v + u\n",
    "except:\n",
    "    print('ValueError: Измерения векторов не совпадают')\n",
    "    "
   ]
  },
  {
   "cell_type": "markdown",
   "id": "1215d25d-ee5c-416e-8ff2-765bf6929244",
   "metadata": {},
   "source": [
    "#### Имеет ли значение ориентация векторов при их сложении?"
   ]
  },
  {
   "cell_type": "code",
   "execution_count": 22,
   "id": "a4b6cf85-fc2b-4c33-87f4-da7d861a353a",
   "metadata": {},
   "outputs": [
    {
     "data": {
      "text/plain": [
       "array([[14, 15, 16],\n",
       "       [24, 25, 26],\n",
       "       [34, 35, 36]])"
      ]
     },
     "execution_count": 22,
     "metadata": {},
     "output_type": "execute_result"
    }
   ],
   "source": [
    "# Сложим вектор-строку с вектором столбцом:\n",
    "v = np.array([[4, 5, 6]])\n",
    "w = np.array([[10, 20, 30]])\n",
    "u = np.array([[0, 3, 6, 9]])\n",
    "v + w.T"
   ]
  },
  {
   "cell_type": "markdown",
   "id": "f46bec96-353e-4369-9f2c-ef9d71029a95",
   "metadata": {},
   "source": [
    "В этом примере реализована операция **транслирования**"
   ]
  },
  {
   "cell_type": "code",
   "execution_count": 25,
   "id": "c0aa114d-f22e-4f27-923b-c27ec4030385",
   "metadata": {},
   "outputs": [
    {
     "data": {
      "text/plain": [
       "array([[10, 13, 16, 19],\n",
       "       [20, 23, 26, 29],\n",
       "       [30, 33, 36, 39]])"
      ]
     },
     "execution_count": 25,
     "metadata": {},
     "output_type": "execute_result"
    }
   ],
   "source": [
    "# Это действие можно выполнять и над векторами разной длины\n",
    "u + w.T"
   ]
  },
  {
   "cell_type": "code",
   "execution_count": 26,
   "id": "5ba504c4-9f2b-46f2-8290-1fee6aa33d3e",
   "metadata": {},
   "outputs": [
    {
     "data": {
      "text/plain": [
       "array([[10, 20, 30],\n",
       "       [13, 23, 33],\n",
       "       [16, 26, 36],\n",
       "       [19, 29, 39]])"
      ]
     },
     "execution_count": 26,
     "metadata": {},
     "output_type": "execute_result"
    }
   ],
   "source": [
    "u.T + w"
   ]
  },
  {
   "cell_type": "markdown",
   "id": "3d45c559-258e-4d95-b70e-e44429a9fd39",
   "metadata": {
    "jp-MarkdownHeadingCollapsed": true
   },
   "source": [
    "### 1.3 Операции со скалярами"
   ]
  },
  {
   "cell_type": "code",
   "execution_count": 28,
   "id": "b92fc40d-6b94-4014-8dc5-c9fb9605607a",
   "metadata": {},
   "outputs": [
    {
     "data": {
      "text/plain": [
       "array([[20, 40, 60]])"
      ]
     },
     "execution_count": 28,
     "metadata": {},
     "output_type": "execute_result"
    }
   ],
   "source": [
    "# Умножение вектора на скаляр\n",
    "s = 2\n",
    "s * w"
   ]
  },
  {
   "cell_type": "code",
   "execution_count": 29,
   "id": "61cef272-4567-49bd-bc48-a185cb879bbd",
   "metadata": {},
   "outputs": [
    {
     "data": {
      "text/plain": [
       "array([[12, 22, 32]])"
      ]
     },
     "execution_count": 29,
     "metadata": {},
     "output_type": "execute_result"
    }
   ],
   "source": [
    "# Сложение скаляра с вектором\n",
    "s + w"
   ]
  },
  {
   "cell_type": "markdown",
   "id": "a6d3c66b-1481-42b0-9c39-37eb975a8460",
   "metadata": {},
   "source": [
    "Сложение скаляра с вектором формальнов линейной алгебре на определено, однако программы числовой обработки позволяют складывать скаляры с векторами, выполняя операцию на подобие умножения"
   ]
  },
  {
   "cell_type": "code",
   "execution_count": 30,
   "id": "53257502-520b-4d8a-ac8d-1affc013cbf6",
   "metadata": {},
   "outputs": [
    {
     "data": {
      "text/plain": [
       "array([[ 7. , 12.5, 18. ]])"
      ]
     },
     "execution_count": 30,
     "metadata": {},
     "output_type": "execute_result"
    }
   ],
   "source": [
    "# Усреднение векторов v и w:\n",
    "(v + w) * 0.5"
   ]
  },
  {
   "cell_type": "markdown",
   "id": "a85da84f-b01b-4017-a066-58ed5aba2113",
   "metadata": {
    "jp-MarkdownHeadingCollapsed": true
   },
   "source": [
    "### 1.4 Транспонирование"
   ]
  },
  {
   "cell_type": "code",
   "execution_count": 32,
   "id": "4022d9ee-8461-4fcd-b980-37174903112f",
   "metadata": {},
   "outputs": [
    {
     "name": "stdout",
     "output_type": "stream",
     "text": [
      "(1, 3)\n"
     ]
    }
   ],
   "source": [
    "print(v.shape)"
   ]
  },
  {
   "cell_type": "code",
   "execution_count": 33,
   "id": "423bf9d4-69c9-4c58-b75e-6e97a56b42aa",
   "metadata": {},
   "outputs": [
    {
     "name": "stdout",
     "output_type": "stream",
     "text": [
      "(3, 1)\n"
     ]
    }
   ],
   "source": [
    "print(v.T.shape)"
   ]
  },
  {
   "cell_type": "code",
   "execution_count": 35,
   "id": "b4d9aff3-fa26-441e-a15e-4aa2293e5b15",
   "metadata": {},
   "outputs": [
    {
     "name": "stdout",
     "output_type": "stream",
     "text": [
      "(1, 3)\n"
     ]
    }
   ],
   "source": [
    "# Двойное транспонирование возвращает вектор в изначальную ориентацию\n",
    "print(v.T.T.shape)"
   ]
  },
  {
   "cell_type": "markdown",
   "id": "8d6076e9-e196-4fa1-ac3c-402cf3044c87",
   "metadata": {},
   "source": [
    "### 1.5 Транслирование векторов"
   ]
  },
  {
   "cell_type": "code",
   "execution_count": 36,
   "id": "0386c84c-3fe0-4599-9076-5391605a4e38",
   "metadata": {},
   "outputs": [
    {
     "data": {
      "text/plain": [
       "array([[11, 21],\n",
       "       [12, 22],\n",
       "       [13, 23]])"
      ]
     },
     "execution_count": 36,
     "metadata": {},
     "output_type": "execute_result"
    }
   ],
   "source": [
    "v = np.array([[1, 2, 3]]).T\n",
    "w = np.array([[10, 20]])\n",
    "# Сложение при помощи транслирования\n",
    "v + w"
   ]
  },
  {
   "cell_type": "markdown",
   "id": "68dda106-fd08-4c4a-ae0a-7fa352feff09",
   "metadata": {},
   "source": [
    "- эта операция существует только в современной компьютерной линейной алгебре\n",
    "- подразумевает многокраное выполнение операции сложения между одним вектором и каждым элементов другого вектора\n",
    "- эта операция позволяет выполнять эффективные и компактные вычисления"
   ]
  },
  {
   "cell_type": "markdown",
   "id": "415a7cf2-8aa3-4e32-9273-0125ac7a1668",
   "metadata": {},
   "source": [
    "### 1.6 Модуль вектора и единичные векторы"
   ]
  },
  {
   "cell_type": "markdown",
   "id": "2b30a321-ca40-4d31-9c49-07074264eaed",
   "metadata": {},
   "source": [
    "**Синонимы:** геометрическая длина, норма, magnitude"
   ]
  },
  {
   "cell_type": "code",
   "execution_count": 37,
   "id": "acae4c51-02bd-4bdd-94a7-245a5a35cecb",
   "metadata": {},
   "outputs": [],
   "source": [
    "v = np.array([1, 2, 3, 7, 8, 9])\n",
    "v_dim = len(v)\n",
    "v_mag = np.linalg.norm(v)"
   ]
  },
  {
   "cell_type": "code",
   "execution_count": 38,
   "id": "363ae0d8-f517-46f4-95f8-c3ce5d363ea3",
   "metadata": {},
   "outputs": [
    {
     "name": "stdout",
     "output_type": "stream",
     "text": [
      "6\n",
      "14.422205101855956\n"
     ]
    }
   ],
   "source": [
    "print(v_dim)\n",
    "print(v_mag)"
   ]
  },
  {
   "cell_type": "markdown",
   "id": "c9953316-fc11-459e-a644-5f5ba5132327",
   "metadata": {},
   "source": [
    "#### Создание единичного вектора"
   ]
  },
  {
   "cell_type": "markdown",
   "id": "d2ea2a37-746c-4c6e-a046-486903ce29a7",
   "metadata": {},
   "source": [
    "**Единичный вектор** - это вектор геомертическая длина (норма) которого равна единице"
   ]
  },
  {
   "cell_type": "code",
   "execution_count": 42,
   "id": "251ed793-e12d-47d8-ae07-cc912c473bf9",
   "metadata": {},
   "outputs": [],
   "source": [
    "v = np.array([3, 5])"
   ]
  },
  {
   "cell_type": "code",
   "execution_count": 43,
   "id": "5a7da893-3ca4-4ab1-be27-f07a3652a5e2",
   "metadata": {},
   "outputs": [
    {
     "data": {
      "text/plain": [
       "array([0.51449576, 0.85749293])"
      ]
     },
     "execution_count": 43,
     "metadata": {},
     "output_type": "execute_result"
    }
   ],
   "source": [
    "unit_v = (1/np.linalg.norm(v)) * v\n",
    "unit_v"
   ]
  },
  {
   "cell_type": "markdown",
   "id": "d0abb612-516b-490d-9cfe-576106008f22",
   "metadata": {},
   "source": [
    "### 1.7 Точечное произведение векторов"
   ]
  },
  {
   "cell_type": "code",
   "execution_count": 44,
   "id": "ef749ca5-925f-4c58-832d-f67270cf376d",
   "metadata": {},
   "outputs": [
    {
     "data": {
      "text/plain": [
       "70"
      ]
     },
     "execution_count": 44,
     "metadata": {},
     "output_type": "execute_result"
    }
   ],
   "source": [
    "v = np.array([1, 2, 3, 4])\n",
    "w = np.array([5, 6, 7, 8])\n",
    "np.dot(v, w)"
   ]
  },
  {
   "cell_type": "code",
   "execution_count": 45,
   "id": "8a16d649-ecce-4816-bc7b-1e4bffbaea9d",
   "metadata": {},
   "outputs": [
    {
     "data": {
      "text/plain": [
       "70"
      ]
     },
     "execution_count": 45,
     "metadata": {},
     "output_type": "execute_result"
    }
   ],
   "source": [
    "v @ w"
   ]
  },
  {
   "cell_type": "code",
   "execution_count": 46,
   "id": "7531b836-c87f-4890-9750-7acc9c43c7a5",
   "metadata": {},
   "outputs": [
    {
     "data": {
      "text/plain": [
       "70"
      ]
     },
     "execution_count": 46,
     "metadata": {},
     "output_type": "execute_result"
    }
   ],
   "source": [
    "v @ w.T"
   ]
  },
  {
   "cell_type": "code",
   "execution_count": 47,
   "id": "5b519e36-1729-4ecf-bd14-ecf60e94e86a",
   "metadata": {},
   "outputs": [
    {
     "data": {
      "text/plain": [
       "70"
      ]
     },
     "execution_count": 47,
     "metadata": {},
     "output_type": "execute_result"
    }
   ],
   "source": [
    "v.T @ w"
   ]
  },
  {
   "cell_type": "markdown",
   "id": "0d0a091b-c5fe-4750-8736-f9b1c517ac5d",
   "metadata": {},
   "source": [
    "**Свойство:** Умножение одного вектора на скаляр шкалирует точечное произведение на то же число"
   ]
  },
  {
   "cell_type": "code",
   "execution_count": 48,
   "id": "562be431-bf92-442a-8976-b57dd4d261a7",
   "metadata": {},
   "outputs": [
    {
     "data": {
      "text/plain": [
       "140"
      ]
     },
     "execution_count": 48,
     "metadata": {},
     "output_type": "execute_result"
    }
   ],
   "source": [
    "s = 2\n",
    "np.dot(s * v, w)"
   ]
  },
  {
   "cell_type": "markdown",
   "id": "87b83620-e0ce-4709-a572-ac3b6c5c6e5f",
   "metadata": {},
   "source": [
    "#### Точечное произведение является дистрибутивным"
   ]
  },
  {
   "cell_type": "code",
   "execution_count": 49,
   "id": "64084468-8230-4958-886f-9b65b9e009c9",
   "metadata": {},
   "outputs": [],
   "source": [
    "a = np.array([0, 1, 2])\n",
    "b = np.array([3, 5, 8])\n",
    "c = np.array([13, 21, 34])"
   ]
  },
  {
   "cell_type": "code",
   "execution_count": 50,
   "id": "d1104923-1084-4298-b26d-260986e1c45b",
   "metadata": {},
   "outputs": [
    {
     "data": {
      "text/plain": [
       "True"
      ]
     },
     "execution_count": 50,
     "metadata": {},
     "output_type": "execute_result"
    }
   ],
   "source": [
    "res1 = np.dot(a, b + c)\n",
    "res2 = np.dot(a, b) + np.dot(a, c)\n",
    "res1 == res2"
   ]
  },
  {
   "cell_type": "markdown",
   "id": "32cb0d63-2cf7-4d3a-a573-31a6b186ba8c",
   "metadata": {},
   "source": [
    "- Знак точечного произведения между двумя векторами показывает геометрическую взаимосвязь между этими векторами.\n",
    "- Ортогональные векторы имеют нулевое точечное произведение."
   ]
  },
  {
   "cell_type": "markdown",
   "id": "ff9a6505-a30d-4ae5-bf25-b660d78801f4",
   "metadata": {},
   "source": [
    "### 1.8 Другие умножения векторов"
   ]
  },
  {
   "cell_type": "markdown",
   "id": "d41515bc-c4a9-4b3c-bbac-e815678040df",
   "metadata": {},
   "source": [
    "#### Адамово умножение"
   ]
  },
  {
   "cell_type": "code",
   "execution_count": 51,
   "id": "25164988-7eaa-4b90-8322-d48f9e7129fa",
   "metadata": {},
   "outputs": [],
   "source": [
    "a = np.array([5, 4, 8, 2])\n",
    "b = np.array([1, 0, .5, -1])\n",
    "c = np.array([1, 0, .5])"
   ]
  },
  {
   "cell_type": "code",
   "execution_count": 52,
   "id": "140df716-f570-49fc-ae50-b341871e81d6",
   "metadata": {},
   "outputs": [
    {
     "data": {
      "text/plain": [
       "array([ 5.,  0.,  4., -2.])"
      ]
     },
     "execution_count": 52,
     "metadata": {},
     "output_type": "execute_result"
    }
   ],
   "source": [
    "a * b"
   ]
  },
  {
   "cell_type": "code",
   "execution_count": 59,
   "id": "a07d5aea-3170-416e-98fa-c495bebb7d82",
   "metadata": {},
   "outputs": [
    {
     "name": "stdout",
     "output_type": "stream",
     "text": [
      "Ошибка! Адамово умножение определено только для векторов одинаковой размерности\n"
     ]
    }
   ],
   "source": [
    "try:\n",
    "    a * c\n",
    "except: \n",
    "    print('Ошибка! Адамово умножение определено только для векторов одинаковой размерности')"
   ]
  },
  {
   "cell_type": "markdown",
   "id": "5cdba310-acf4-4b9e-9c14-a980b17e17f0",
   "metadata": {},
   "source": [
    "#### Внешнее произведение"
   ]
  },
  {
   "cell_type": "code",
   "execution_count": null,
   "id": "16cfa791-ecf7-4260-ba35-042aaf31156d",
   "metadata": {},
   "outputs": [],
   "source": []
  }
 ],
 "metadata": {
  "kernelspec": {
   "display_name": "Python 3 (ipykernel)",
   "language": "python",
   "name": "python3"
  },
  "language_info": {
   "codemirror_mode": {
    "name": "ipython",
    "version": 3
   },
   "file_extension": ".py",
   "mimetype": "text/x-python",
   "name": "python",
   "nbconvert_exporter": "python",
   "pygments_lexer": "ipython3",
   "version": "3.11.6"
  }
 },
 "nbformat": 4,
 "nbformat_minor": 5
}
